{
 "cells": [
  {
   "cell_type": "markdown",
   "metadata": {
    "id": "_3pt49xuJ8sX"
   },
   "source": [
    "# **Python NumPy**\n",
    "\n",
    "*   Numpy is a python package which stands \n",
    "\n",
    "*   for Numerical Python.\n",
    "This was created in 2005 by Travis Oliphant.\n",
    "*   Using Numpy we can perform the following functionalities : \n",
    "\n",
    "\n",
    "> *    Mathematical and logical calculations on Arrays.\n",
    "> *    Fourier transforms and routines for shape manipulation.\n",
    "> *    It has built in functions for linear Algebra and random number generation.\n",
    "> *    Used for scientific calculations.\n",
    "> *    It is faster than python list.\n",
    "> *    it is faster because it is associated with C programming language.\n",
    "\n",
    "*    Numpy is often called as an alternative for MatLab (a programming platform designed specifically for engineers and scientists for data analysis, Developing algorithms,create models and applications etc).\n",
    "*    Numpy is used with packages like SciPy(Scientific Python) and MatPlotlib(Plotting library) and this makes it capable to replace MatLab.\n",
    "*    Types of array in Numpy :   \n",
    "> *    one Dimensional Array as Vector.\n",
    "> *    two Dimensional Array as Matrix.\n",
    "> *    three Dimensional Array as Tensor.\n",
    "\n",
    "\n",
    "\n",
    "\n",
    "\n",
    "\n",
    "\n"
   ]
  },
  {
   "cell_type": "markdown",
   "metadata": {
    "id": "4nOfBdsTTuvo"
   },
   "source": [
    "> Note : this is done after installing jupyter notebook in cmd or using anaconda.\n",
    "\n",
    "## Working with jupyter NoteBook\n",
    "### Jupyter notebook has two modes : \n",
    "\n",
    "1.   Command Mode - Blue Color\n",
    "2.   Edit Mode - Green Color\n",
    "\n",
    "### Some Shortcuts to remember :  \n",
    "1.   To run the program you have written press cntrl+enter\n",
    "2.   To run the command as well as insert a cell below - shift+Enter\n",
    "3.   To insert a cell below just press \"b\".\n",
    "4.   To delete a cell - press Esc button (to go to command mode as in edit mode you can't delete the cell) and then \"d\" two times.\n",
    "### Work with Jupyter Notebook\n",
    "1.   To mark something as comment we press esc button and then 1 and shift+Enter yo execute.\n",
    "2.   We can also use HTML tags inside this.\n",
    "3.   To know all the shortcuts, just go to and click on keyboard Shortcuts.\n"
   ]
  },
  {
   "cell_type": "markdown",
   "metadata": {
    "id": "aOQQkHDiWjX0"
   },
   "source": [
    "> <h3>Numpy examples :</h3> "
   ]
  },
  {
   "cell_type": "code",
   "execution_count": 187,
   "metadata": {
    "id": "9H8almLtV-By"
   },
   "outputs": [],
   "source": [
    "import numpy as np"
   ]
  },
  {
   "cell_type": "code",
   "execution_count": 189,
   "metadata": {
    "colab": {
     "base_uri": "https://localhost:8080/"
    },
    "id": "xAxQNTA1WBSH",
    "outputId": "57f17f60-47dc-4f35-ca86-2be5c96ea680"
   },
   "outputs": [
    {
     "name": "stdout",
     "output_type": "stream",
     "text": [
      "Enter size of 1D array : 5\n",
      "Enter number1\n",
      "Enter number2\n",
      "Enter number3\n",
      "Enter number4\n",
      "Enter number5\n"
     ]
    },
    {
     "data": {
      "text/plain": [
       "array([1, 2, 3, 4, 5])"
      ]
     },
     "execution_count": 189,
     "metadata": {},
     "output_type": "execute_result"
    }
   ],
   "source": [
    "a = []\n",
    "n = int(input(\"Enter size of 1D array : \"))\n",
    "for i in range(n):\n",
    "  a.append(int(input(\"Enter number\")))\n",
    "a = np.array(a)\n",
    "b = np.array([1,1,1])\n",
    "a"
   ]
  },
  {
   "cell_type": "code",
   "execution_count": null,
   "metadata": {
    "colab": {
     "base_uri": "https://localhost:8080/"
    },
    "id": "Atxa0ax0WROy",
    "outputId": "f0a8c553-8445-4fc1-e7cf-fab759876ee5"
   },
   "outputs": [],
   "source": [
    "c = np.append(a,b)\n",
    "c"
   ]
  },
  {
   "cell_type": "code",
   "execution_count": null,
   "metadata": {
    "colab": {
     "base_uri": "https://localhost:8080/"
    },
    "id": "6VL2Cq6N0pzd",
    "outputId": "1079a90e-d7bf-4d73-c9b1-17a5068fedd4"
   },
   "outputs": [],
   "source": [
    "#size to check array size(total number of elements)\n",
    "#ndim checking dimension of array\n",
    "c.size , c.ndim"
   ]
  },
  {
   "cell_type": "code",
   "execution_count": null,
   "metadata": {
    "colab": {
     "base_uri": "https://localhost:8080/"
    },
    "id": "byllmyKa0pgX",
    "outputId": "08264bb9-75b0-43a1-a653-5e0b3c82d336"
   },
   "outputs": [],
   "source": [
    "c.shape"
   ]
  },
  {
   "cell_type": "code",
   "execution_count": null,
   "metadata": {
    "colab": {
     "base_uri": "https://localhost:8080/"
    },
    "id": "m4cyMxZm19LO",
    "outputId": "47c58095-3cf8-48cd-b850-f6e0081a9cc3"
   },
   "outputs": [],
   "source": [
    "#slicing is same as we have done in string or list in core python\n",
    "c[1:] , c[:c.size-3]"
   ]
  },
  {
   "cell_type": "code",
   "execution_count": null,
   "metadata": {
    "colab": {
     "base_uri": "https://localhost:8080/"
    },
    "id": "hNK8gX_CHctf",
    "outputId": "631f013b-b28f-416b-e4a7-bd1296e99c6a"
   },
   "outputs": [],
   "source": [
    "c[-1] , c[:-1]"
   ]
  },
  {
   "cell_type": "code",
   "execution_count": null,
   "metadata": {
    "colab": {
     "base_uri": "https://localhost:8080/"
    },
    "id": "oT1in2JD2AZ7",
    "outputId": "1b7f4c0f-cca3-4545-8035-c7d3361f7511"
   },
   "outputs": [],
   "source": [
    "c[5:c.size]"
   ]
  },
  {
   "cell_type": "code",
   "execution_count": null,
   "metadata": {
    "colab": {
     "base_uri": "https://localhost:8080/"
    },
    "id": "5gfsSq6XHddh",
    "outputId": "6b7805a5-859f-4c98-b020-8c3545da31db"
   },
   "outputs": [],
   "source": [
    "c[-3:]"
   ]
  },
  {
   "cell_type": "code",
   "execution_count": null,
   "metadata": {
    "colab": {
     "base_uri": "https://localhost:8080/"
    },
    "id": "XbqR-89DIFPT",
    "outputId": "bbcc005c-09ad-42fd-8ae5-64d2e72e511a"
   },
   "outputs": [],
   "source": [
    "c[-5] , c[5]"
   ]
  },
  {
   "cell_type": "code",
   "execution_count": null,
   "metadata": {
    "colab": {
     "base_uri": "https://localhost:8080/"
    },
    "id": "4WF5s9zBIGPF",
    "outputId": "48fad73d-9f9f-44dc-a24d-f9f5d6d95653"
   },
   "outputs": [],
   "source": [
    "c[0] = 10.0\n",
    "c"
   ]
  },
  {
   "cell_type": "code",
   "execution_count": null,
   "metadata": {
    "colab": {
     "base_uri": "https://localhost:8080/"
    },
    "id": "QAxUkDWz2Ufa",
    "outputId": "8fdbf694-f5ea-4ee3-c998-f58a5cdfea23"
   },
   "outputs": [],
   "source": [
    "d = [\n",
    "     {\"name\" : 'A'},\n",
    "     {\"name\" : 'B'},\n",
    "     {\"name\" : 'C'},\n",
    "     {\"name\" : 'D'},\n",
    "     {\"name\" : 'E'}\n",
    "]\n",
    "c.dtype"
   ]
  },
  {
   "cell_type": "code",
   "execution_count": null,
   "metadata": {
    "colab": {
     "base_uri": "https://localhost:8080/"
    },
    "id": "M0lJy_SP2zZG",
    "outputId": "e906570c-50fe-4ead-cb8b-cdd79623ac71"
   },
   "outputs": [],
   "source": [
    "d"
   ]
  },
  {
   "cell_type": "code",
   "execution_count": null,
   "metadata": {
    "colab": {
     "base_uri": "https://localhost:8080/"
    },
    "id": "zer5hoas2VO7",
    "outputId": "05f643a6-69be-4793-9dfc-50d79f364ace"
   },
   "outputs": [],
   "source": [
    "d = np.array(d)\n",
    "d"
   ]
  },
  {
   "cell_type": "markdown",
   "metadata": {
    "id": "iv2AQuL9cW-r"
   },
   "source": [
    "<h3>Numpy Arrays<h3>"
   ]
  },
  {
   "cell_type": "markdown",
   "metadata": {
    "id": "d6znrtjHcjw-"
   },
   "source": [
    "> One Dimensional Array"
   ]
  },
  {
   "cell_type": "code",
   "execution_count": null,
   "metadata": {
    "colab": {
     "base_uri": "https://localhost:8080/"
    },
    "id": "EgQBeYzachpT",
    "outputId": "06814777-de4e-4ebf-8c4f-e109661ddf4e"
   },
   "outputs": [],
   "source": [
    "a = [1,2,3,4,5]\n",
    "arr = np.array(a)\n",
    "arr "
   ]
  },
  {
   "cell_type": "code",
   "execution_count": null,
   "metadata": {
    "colab": {
     "base_uri": "https://localhost:8080/"
    },
    "id": "5Fjg9ZU1cypa",
    "outputId": "5a5dea30-6134-48d8-f770-b0fb3fb75874"
   },
   "outputs": [],
   "source": [
    "arr2= np.array([2,0,5,6,4])\n",
    "arr2"
   ]
  },
  {
   "cell_type": "code",
   "execution_count": null,
   "metadata": {
    "colab": {
     "base_uri": "https://localhost:8080/"
    },
    "id": "njcEZCYMc7pj",
    "outputId": "eb593802-6c01-490a-d2cf-eb6fae98370d"
   },
   "outputs": [],
   "source": [
    "a"
   ]
  },
  {
   "cell_type": "code",
   "execution_count": null,
   "metadata": {
    "colab": {
     "base_uri": "https://localhost:8080/"
    },
    "id": "BNG3EtaMe67V",
    "outputId": "a6b64107-2f2c-4ec9-d0bf-38a048710926"
   },
   "outputs": [],
   "source": [
    " b = np.arange(0,10)\n",
    " b"
   ]
  },
  {
   "cell_type": "code",
   "execution_count": null,
   "metadata": {
    "colab": {
     "base_uri": "https://localhost:8080/"
    },
    "id": "Pndg1IMjnSAk",
    "outputId": "443611ee-ffbb-4342-fc46-91820c099afa"
   },
   "outputs": [],
   "source": [
    "b.ndim"
   ]
  },
  {
   "cell_type": "code",
   "execution_count": null,
   "metadata": {
    "colab": {
     "base_uri": "https://localhost:8080/"
    },
    "id": "BQslwUMQrkYm",
    "outputId": "1e7695c1-d228-471c-c9e8-d6e1ce76c004"
   },
   "outputs": [],
   "source": [
    "b.T , b"
   ]
  },
  {
   "cell_type": "code",
   "execution_count": null,
   "metadata": {
    "colab": {
     "base_uri": "https://localhost:8080/"
    },
    "id": "MYmBUfKvtNU-",
    "outputId": "139583b3-197b-41c6-e09b-baa4258a2a3a"
   },
   "outputs": [],
   "source": [
    "np.empty(2)"
   ]
  },
  {
   "cell_type": "code",
   "execution_count": null,
   "metadata": {
    "id": "jeqqNAEP3RJ7"
   },
   "outputs": [],
   "source": []
  },
  {
   "cell_type": "markdown",
   "metadata": {
    "id": "CGzAvlVl3VKJ"
   },
   "source": [
    "> 2 Dimensional Array"
   ]
  },
  {
   "cell_type": "code",
   "execution_count": null,
   "metadata": {
    "colab": {
     "base_uri": "https://localhost:8080/"
    },
    "id": "7pElK8fvtdOB",
    "outputId": "b9a65080-334f-4579-f4e2-b7f3d25d4d4f"
   },
   "outputs": [],
   "source": [
    "c = [[1,2,],[3,4]]\n",
    "c"
   ]
  },
  {
   "cell_type": "code",
   "execution_count": null,
   "metadata": {
    "colab": {
     "base_uri": "https://localhost:8080/"
    },
    "id": "x_hB6Cxdt5vJ",
    "outputId": "be6d51c6-0b11-4985-a1e2-e8ece70d3f0f"
   },
   "outputs": [],
   "source": [
    "c1 = np.array(c , dtype=float)\n",
    "c1"
   ]
  },
  {
   "cell_type": "code",
   "execution_count": null,
   "metadata": {
    "colab": {
     "base_uri": "https://localhost:8080/"
    },
    "id": "wTkHm4fEuErQ",
    "outputId": "5b8626b0-d06c-44ef-b07a-b986183c162e"
   },
   "outputs": [],
   "source": [
    "c1.T"
   ]
  },
  {
   "cell_type": "code",
   "execution_count": null,
   "metadata": {
    "colab": {
     "base_uri": "https://localhost:8080/"
    },
    "id": "ggBi-oOFuID2",
    "outputId": "6ce90272-1efc-4b18-c99b-107250c6ef08"
   },
   "outputs": [],
   "source": [
    "z = np.zeros((2,3))\n",
    "z"
   ]
  },
  {
   "cell_type": "code",
   "execution_count": null,
   "metadata": {
    "colab": {
     "base_uri": "https://localhost:8080/"
    },
    "id": "Jh7fyLt-vo_d",
    "outputId": "83695e77-59a4-4eab-d020-c8382e285dac"
   },
   "outputs": [],
   "source": [
    "# zeros((1,2,3)) = ar1(ar2(ar3(),ar3()))\n",
    "z1 = np.zeros((1,2,3))\n",
    "z1"
   ]
  },
  {
   "cell_type": "code",
   "execution_count": null,
   "metadata": {
    "colab": {
     "base_uri": "https://localhost:8080/"
    },
    "id": "t1MR_fURzJLl",
    "outputId": "26de2986-dcfe-40af-dc42-e0cc1a6c7bc5"
   },
   "outputs": [],
   "source": [
    "a = np.ones((1,2) , dtype=int)\n",
    "a"
   ]
  },
  {
   "cell_type": "code",
   "execution_count": null,
   "metadata": {
    "colab": {
     "base_uri": "https://localhost:8080/"
    },
    "id": "7dmDbCLhzTJf",
    "outputId": "3c53386c-4fee-4da8-e783-afdb9257fdb5"
   },
   "outputs": [],
   "source": [
    "a= np.ones((3,3))\n",
    "a"
   ]
  },
  {
   "cell_type": "code",
   "execution_count": null,
   "metadata": {
    "colab": {
     "base_uri": "https://localhost:8080/"
    },
    "id": "vlpuATGIyGkN",
    "outputId": "367e8f0c-a3e4-488e-ca15-4b5c46180aa7"
   },
   "outputs": [],
   "source": [
    "a = np.ones((2,2,2))\n",
    "a"
   ]
  },
  {
   "cell_type": "markdown",
   "metadata": {
    "id": "BTjCipRwLSg7"
   },
   "source": [
    "> Numpy Array Manipulation"
   ]
  },
  {
   "cell_type": "code",
   "execution_count": null,
   "metadata": {
    "colab": {
     "base_uri": "https://localhost:8080/"
    },
    "id": "jmDRhT_9y9g8",
    "outputId": "313de11b-7505-44aa-f759-38096b79f9ab"
   },
   "outputs": [],
   "source": [
    "b = np.array([[1,2,3],\n",
    "              [4,5,6],\n",
    "              [7,8,9]] , dtype=np.int8)\n",
    "b"
   ]
  },
  {
   "cell_type": "code",
   "execution_count": null,
   "metadata": {
    "colab": {
     "base_uri": "https://localhost:8080/"
    },
    "id": "WllrGph5L2F3",
    "outputId": "8d2f9cb4-b75d-40cd-df35-06dd32beee7f"
   },
   "outputs": [],
   "source": [
    "#transpose of matrix in numpy\n",
    "i = np.transpose(b)\n",
    "i"
   ]
  },
  {
   "cell_type": "code",
   "execution_count": null,
   "metadata": {
    "colab": {
     "base_uri": "https://localhost:8080/"
    },
    "id": "YDGqNjixL5fP",
    "outputId": "cfce6440-3678-46ef-d57d-1b6731888db5"
   },
   "outputs": [],
   "source": [
    "#shortcut of transpose of matrix or array\n",
    "i.T"
   ]
  },
  {
   "cell_type": "code",
   "execution_count": null,
   "metadata": {
    "colab": {
     "base_uri": "https://localhost:8080/"
    },
    "id": "L5cGCzvEL5nX",
    "outputId": "bd6861db-5d91-4a7e-a6c3-90137d18f41a"
   },
   "outputs": [],
   "source": [
    "#flattening array from nXnXn... to n\n",
    "b = i.ravel()\n",
    "b"
   ]
  },
  {
   "cell_type": "code",
   "execution_count": null,
   "metadata": {
    "colab": {
     "base_uri": "https://localhost:8080/"
    },
    "id": "5YZ371ODL5qm",
    "outputId": "2d516fab-bbba-4ef4-c4d0-54921a159de1"
   },
   "outputs": [],
   "source": [
    "#it used array 1D array and size of 1D array = parameter given n ,m product(n*m)\n",
    "b.reshape(9,1)\n"
   ]
  },
  {
   "cell_type": "markdown",
   "metadata": {
    "id": "Iq-tDx4PU7ui"
   },
   "source": [
    "> Adding and removing elements from  array"
   ]
  },
  {
   "cell_type": "code",
   "execution_count": null,
   "metadata": {
    "colab": {
     "base_uri": "https://localhost:8080/"
    },
    "id": "HgVqgR8lL5uc",
    "outputId": "5008cd32-b6b4-4dc4-edb4-074c37b196f2"
   },
   "outputs": [],
   "source": [
    " b = b.reshape(3,3)\n",
    " b"
   ]
  },
  {
   "cell_type": "code",
   "execution_count": null,
   "metadata": {
    "colab": {
     "base_uri": "https://localhost:8080/"
    },
    "id": "uqWlw2S5Uai3",
    "outputId": "928c4a99-6f06-478d-c6b5-2950638f2c11"
   },
   "outputs": [],
   "source": [
    "a = np.array([[1,2],[3,4]])\n",
    "a.resize((3,5))\n",
    "a"
   ]
  },
  {
   "cell_type": "code",
   "execution_count": null,
   "metadata": {
    "colab": {
     "base_uri": "https://localhost:8080/"
    },
    "id": "ODPauFOiUapP",
    "outputId": "c0d80235-d57b-4afd-bb4a-7b9446eb4332"
   },
   "outputs": [],
   "source": [
    "b = np.append(b , np.array([10,20,30],dtype=np.int8))\n",
    "b"
   ]
  },
  {
   "cell_type": "code",
   "execution_count": null,
   "metadata": {
    "colab": {
     "base_uri": "https://localhost:8080/"
    },
    "id": "YCuaKseyUamB",
    "outputId": "e50459fa-f6d3-49c6-f989-bdf62c21a846"
   },
   "outputs": [],
   "source": [
    "b = np.append(b , np.array([10,20,30],dtype=np.int8))\n",
    "b"
   ]
  },
  {
   "cell_type": "code",
   "execution_count": null,
   "metadata": {
    "colab": {
     "base_uri": "https://localhost:8080/"
    },
    "id": "JibECa5uUasG",
    "outputId": "ceda7e20-c43a-4854-8188-e85393f8563f"
   },
   "outputs": [],
   "source": [
    "b.size"
   ]
  },
  {
   "cell_type": "code",
   "execution_count": null,
   "metadata": {
    "id": "hTLdkOdhUau7"
   },
   "outputs": [],
   "source": [
    "b.resize((5,3))\n",
    "b"
   ]
  },
  {
   "cell_type": "markdown",
   "metadata": {},
   "source": [
    "> Array Manipulation in 2 Dimension Array"
   ]
  },
  {
   "cell_type": "code",
   "execution_count": null,
   "metadata": {
    "id": "DohL9zNkUaxm"
   },
   "outputs": [],
   "source": [
    "b = b[:4,:]\n",
    "b"
   ]
  },
  {
   "cell_type": "code",
   "execution_count": null,
   "metadata": {},
   "outputs": [],
   "source": [
    "#slicing columns of numpy array b\n",
    "col1 = b[:,0]\n",
    "col2 = b[:,1]\n",
    "col3 = b[:,2]\n",
    "col1 , col2 , col3"
   ]
  },
  {
   "cell_type": "code",
   "execution_count": null,
   "metadata": {},
   "outputs": [],
   "source": [
    "#slicing rows in numpy array b\n",
    "row1 = b[0,]\n",
    "row2 = b[1,]\n",
    "row3 = b[2,]\n",
    "row1 , row2 , row3"
   ]
  },
  {
   "cell_type": "code",
   "execution_count": null,
   "metadata": {},
   "outputs": [],
   "source": [
    "b[0,1] , b[0,2] , b[1,0] , b[1,2]"
   ]
  },
  {
   "cell_type": "code",
   "execution_count": null,
   "metadata": {},
   "outputs": [],
   "source": [
    "b[0:2,] "
   ]
  },
  {
   "cell_type": "code",
   "execution_count": null,
   "metadata": {},
   "outputs": [],
   "source": [
    "b[:1]"
   ]
  },
  {
   "cell_type": "code",
   "execution_count": null,
   "metadata": {},
   "outputs": [],
   "source": [
    "b[1,...]"
   ]
  },
  {
   "cell_type": "code",
   "execution_count": null,
   "metadata": {},
   "outputs": [],
   "source": [
    "b"
   ]
  },
  {
   "cell_type": "code",
   "execution_count": null,
   "metadata": {},
   "outputs": [],
   "source": [
    "#reversing array by slicing\n",
    "b[: : -1] , b[: : -1]\n"
   ]
  },
  {
   "cell_type": "code",
   "execution_count": null,
   "metadata": {},
   "outputs": [],
   "source": [
    "b[: -1 :]"
   ]
  },
  {
   "cell_type": "code",
   "execution_count": null,
   "metadata": {},
   "outputs": [],
   "source": [
    "b[: : -2]"
   ]
  },
  {
   "cell_type": "code",
   "execution_count": null,
   "metadata": {},
   "outputs": [],
   "source": [
    "b[: : -3]"
   ]
  },
  {
   "cell_type": "code",
   "execution_count": null,
   "metadata": {},
   "outputs": [],
   "source": [
    "b[: : -4]"
   ]
  },
  {
   "cell_type": "code",
   "execution_count": null,
   "metadata": {},
   "outputs": [],
   "source": [
    "b[: : -5]"
   ]
  },
  {
   "cell_type": "code",
   "execution_count": null,
   "metadata": {},
   "outputs": [],
   "source": [
    "b[: : -6]"
   ]
  },
  {
   "cell_type": "code",
   "execution_count": null,
   "metadata": {},
   "outputs": [],
   "source": [
    "b[: : -100]"
   ]
  },
  {
   "cell_type": "code",
   "execution_count": null,
   "metadata": {},
   "outputs": [],
   "source": [
    "b[0:2,2]"
   ]
  },
  {
   "cell_type": "markdown",
   "metadata": {},
   "source": [
    "> QUE : Create array like this\n",
    "[[1,1,1],\n",
    "[1,0,1],\n",
    "[1,1,1]]\n",
    "using numpy array slicing from this array \n",
    "[[1,2,3],\n",
    "[4,5,6],\n",
    "[7,8,9]]"
   ]
  },
  {
   "cell_type": "code",
   "execution_count": null,
   "metadata": {},
   "outputs": [],
   "source": [
    "a = np.array([[1,2,3], [4,5,6], [7,8,9]])\n",
    "a"
   ]
  },
  {
   "cell_type": "code",
   "execution_count": null,
   "metadata": {},
   "outputs": [],
   "source": [
    "for i in range(0 , a[0,...].size):\n",
    "    a[0,...] = 1\n",
    "    a[2,...] = 1\n",
    "    a[...,0] = 1\n",
    "    a[...,2] = 1\n",
    "    \n"
   ]
  },
  {
   "cell_type": "code",
   "execution_count": null,
   "metadata": {},
   "outputs": [],
   "source": [
    "a"
   ]
  },
  {
   "cell_type": "code",
   "execution_count": null,
   "metadata": {},
   "outputs": [],
   "source": [
    "n = int(a[1,...].size/2)\n",
    "a[n,n] = 0\n",
    "a"
   ]
  },
  {
   "cell_type": "code",
   "execution_count": null,
   "metadata": {},
   "outputs": [],
   "source": [
    "b"
   ]
  },
  {
   "cell_type": "code",
   "execution_count": null,
   "metadata": {},
   "outputs": [],
   "source": [
    "c = b.ravel()\n",
    "c"
   ]
  },
  {
   "cell_type": "code",
   "execution_count": null,
   "metadata": {},
   "outputs": [],
   "source": [
    "c[c>5]"
   ]
  },
  {
   "cell_type": "code",
   "execution_count": null,
   "metadata": {},
   "outputs": [],
   "source": [
    "c[c>=10]"
   ]
  },
  {
   "cell_type": "code",
   "execution_count": null,
   "metadata": {},
   "outputs": [],
   "source": [
    "b[[1,0,2],[1,0,2]]"
   ]
  },
  {
   "cell_type": "code",
   "execution_count": null,
   "metadata": {
    "scrolled": true
   },
   "outputs": [],
   "source": [
    "b[[1,2,0,0,1,1,2,1,1,2],[1,2,0,0,1,1,2,1,1,2]]"
   ]
  },
  {
   "cell_type": "code",
   "execution_count": null,
   "metadata": {},
   "outputs": [],
   "source": [
    "b.ctypes"
   ]
  },
  {
   "cell_type": "code",
   "execution_count": null,
   "metadata": {
    "scrolled": false
   },
   "outputs": [],
   "source": [
    "b.nbytes"
   ]
  },
  {
   "cell_type": "markdown",
   "metadata": {},
   "source": [
    "## Numpy Operations"
   ]
  },
  {
   "cell_type": "code",
   "execution_count": null,
   "metadata": {},
   "outputs": [],
   "source": [
    "a,b"
   ]
  },
  {
   "cell_type": "code",
   "execution_count": null,
   "metadata": {},
   "outputs": [],
   "source": [
    "a.std()"
   ]
  },
  {
   "cell_type": "code",
   "execution_count": null,
   "metadata": {},
   "outputs": [],
   "source": [
    "b.std()"
   ]
  },
  {
   "cell_type": "code",
   "execution_count": null,
   "metadata": {},
   "outputs": [],
   "source": [
    "a.mean() , b.mean()"
   ]
  },
  {
   "cell_type": "code",
   "execution_count": null,
   "metadata": {},
   "outputs": [],
   "source": [
    "a.sum() , b.sum()"
   ]
  },
  {
   "cell_type": "code",
   "execution_count": null,
   "metadata": {},
   "outputs": [],
   "source": [
    "a.sum(axis=0), b.sum(axis=0) # it is row wise sum"
   ]
  },
  {
   "cell_type": "code",
   "execution_count": null,
   "metadata": {},
   "outputs": [],
   "source": [
    "a.sum(axis=1), b.sum(axis=1) # it is column wise sum"
   ]
  },
  {
   "cell_type": "code",
   "execution_count": null,
   "metadata": {},
   "outputs": [],
   "source": [
    "a.var() , b.var()"
   ]
  },
  {
   "cell_type": "code",
   "execution_count": null,
   "metadata": {},
   "outputs": [],
   "source": [
    "a+10"
   ]
  },
  {
   "cell_type": "code",
   "execution_count": null,
   "metadata": {},
   "outputs": [],
   "source": [
    "b*2"
   ]
  },
  {
   "cell_type": "code",
   "execution_count": null,
   "metadata": {},
   "outputs": [],
   "source": [
    "b[0] *=2\n",
    "b"
   ]
  },
  {
   "cell_type": "code",
   "execution_count": null,
   "metadata": {},
   "outputs": [],
   "source": [
    "b"
   ]
  },
  {
   "cell_type": "code",
   "execution_count": null,
   "metadata": {},
   "outputs": [],
   "source": [
    "a-10"
   ]
  },
  {
   "cell_type": "code",
   "execution_count": null,
   "metadata": {},
   "outputs": [],
   "source": [
    "a+0"
   ]
  },
  {
   "cell_type": "code",
   "execution_count": null,
   "metadata": {},
   "outputs": [],
   "source": [
    "# a and b are not of same size so we will make it same by slicing b\n",
    "[i for i in b[:b[0,].size,]+a]"
   ]
  },
  {
   "cell_type": "code",
   "execution_count": null,
   "metadata": {},
   "outputs": [],
   "source": [
    "n = np.array([[4,5,6,7],[7,8,9,10],[0,1,2,3]])\n",
    "n"
   ]
  },
  {
   "cell_type": "code",
   "execution_count": null,
   "metadata": {},
   "outputs": [],
   "source": [
    "n1 = np.array([[1,2,3],[5,6,7]])\n",
    "n1"
   ]
  },
  {
   "cell_type": "code",
   "execution_count": null,
   "metadata": {},
   "outputs": [],
   "source": [
    "n[:2,0:3]"
   ]
  },
  {
   "cell_type": "code",
   "execution_count": null,
   "metadata": {},
   "outputs": [],
   "source": [
    "n[:2,0:3]+n1"
   ]
  },
  {
   "cell_type": "code",
   "execution_count": null,
   "metadata": {},
   "outputs": [],
   "source": [
    "n[:2,:3], n[:2,1:], n[1:,:3]  , n[1:,1:4]"
   ]
  },
  {
   "cell_type": "markdown",
   "metadata": {},
   "source": [
    "### Initial PlaceHolders or (Vectorizing and Broadcasting)"
   ]
  },
  {
   "cell_type": "code",
   "execution_count": null,
   "metadata": {},
   "outputs": [],
   "source": [
    "np.zeros((2,2))#it will be float by default"
   ]
  },
  {
   "cell_type": "code",
   "execution_count": null,
   "metadata": {},
   "outputs": [],
   "source": [
    "np.zeros((2,2,2) , dtype=int)"
   ]
  },
  {
   "cell_type": "code",
   "execution_count": null,
   "metadata": {},
   "outputs": [],
   "source": [
    "np.ones((2,3)) #it will be float by default"
   ]
  },
  {
   "cell_type": "code",
   "execution_count": null,
   "metadata": {},
   "outputs": [],
   "source": [
    "n = np.ones((3,3),dtype=int) #we can change data type from float to int\n",
    "n[n[1].size-2,n[1].size-2] = 0\n",
    "n"
   ]
  },
  {
   "cell_type": "code",
   "execution_count": null,
   "metadata": {},
   "outputs": [],
   "source": [
    "d = np.arange(10,25,5)\n",
    "#np.arange(start , end , gap of) like 2,4,6,4,8,10 her gap = 2,start=2 end = 11or12\n",
    "d"
   ]
  },
  {
   "cell_type": "code",
   "execution_count": null,
   "metadata": {},
   "outputs": [],
   "source": [
    "np.linspace(0,2,9)\n",
    "# same as arange but will space between elements and by default=float\n",
    "#we can even specify data type and 3rd parameter is total no. of element in array"
   ]
  },
  {
   "cell_type": "code",
   "execution_count": null,
   "metadata": {},
   "outputs": [],
   "source": [
    "np.linspace(0,2,9 , dtype=int)"
   ]
  },
  {
   "cell_type": "markdown",
   "metadata": {},
   "source": [
    "### Numpy Boolean Array \n",
    ">also called as masks"
   ]
  },
  {
   "cell_type": "code",
   "execution_count": 190,
   "metadata": {},
   "outputs": [
    {
     "data": {
      "text/plain": [
       "array([0, 1, 2, 3])"
      ]
     },
     "execution_count": 190,
     "metadata": {},
     "output_type": "execute_result"
    }
   ],
   "source": [
    "a = np.arange(4)\n",
    "a"
   ]
  },
  {
   "cell_type": "code",
   "execution_count": 191,
   "metadata": {},
   "outputs": [
    {
     "data": {
      "text/plain": [
       "array([20, 21, 22, 23])"
      ]
     },
     "execution_count": 191,
     "metadata": {},
     "output_type": "execute_result"
    }
   ],
   "source": [
    "a+20"
   ]
  },
  {
   "cell_type": "code",
   "execution_count": 192,
   "metadata": {},
   "outputs": [
    {
     "data": {
      "text/plain": [
       "array([0, 3])"
      ]
     },
     "execution_count": 192,
     "metadata": {},
     "output_type": "execute_result"
    }
   ],
   "source": [
    "a[[0,-1]]"
   ]
  },
  {
   "cell_type": "code",
   "execution_count": 193,
   "metadata": {},
   "outputs": [
    {
     "data": {
      "text/plain": [
       "array([0, 2])"
      ]
     },
     "execution_count": 193,
     "metadata": {},
     "output_type": "execute_result"
    }
   ],
   "source": [
    "a[[True ,False,True ,False]]"
   ]
  },
  {
   "cell_type": "code",
   "execution_count": 194,
   "metadata": {},
   "outputs": [
    {
     "data": {
      "text/plain": [
       "array([False, False,  True,  True])"
      ]
     },
     "execution_count": 194,
     "metadata": {},
     "output_type": "execute_result"
    }
   ],
   "source": [
    "a>=2"
   ]
  },
  {
   "cell_type": "code",
   "execution_count": 195,
   "metadata": {},
   "outputs": [
    {
     "data": {
      "text/plain": [
       "array([2, 3])"
      ]
     },
     "execution_count": 195,
     "metadata": {},
     "output_type": "execute_result"
    }
   ],
   "source": [
    "a[a>=2]"
   ]
  },
  {
   "cell_type": "code",
   "execution_count": 199,
   "metadata": {},
   "outputs": [
    {
     "data": {
      "text/plain": [
       "array([0, 1, 2, 3, 5, 6, 7, 8, 9, 5, 6, 7, 8, 9])"
      ]
     },
     "execution_count": 199,
     "metadata": {},
     "output_type": "execute_result"
    }
   ],
   "source": [
    "a = np.append(a , np.array([i for i in range(5,10)]))\n",
    "a"
   ]
  },
  {
   "cell_type": "code",
   "execution_count": 201,
   "metadata": {},
   "outputs": [
    {
     "data": {
      "text/plain": [
       "array([6, 7, 8, 9, 6, 7, 8, 9])"
      ]
     },
     "execution_count": 201,
     "metadata": {},
     "output_type": "execute_result"
    }
   ],
   "source": [
    "a[a>5]"
   ]
  },
  {
   "cell_type": "code",
   "execution_count": 202,
   "metadata": {},
   "outputs": [
    {
     "data": {
      "text/plain": [
       "array([6, 7, 8, 9, 6, 7, 8, 9])"
      ]
     },
     "execution_count": 202,
     "metadata": {},
     "output_type": "execute_result"
    }
   ],
   "source": [
    "a[a>a.mean()]"
   ]
  },
  {
   "cell_type": "code",
   "execution_count": 203,
   "metadata": {},
   "outputs": [
    {
     "data": {
      "text/plain": [
       "array([0, 1, 2, 3, 5, 5])"
      ]
     },
     "execution_count": 203,
     "metadata": {},
     "output_type": "execute_result"
    }
   ],
   "source": [
    "a[~(a>a.mean())]"
   ]
  },
  {
   "cell_type": "code",
   "execution_count": 206,
   "metadata": {},
   "outputs": [
    {
     "data": {
      "text/plain": [
       "array([0, 1, 2, 3, 5, 6, 7, 8, 9, 5, 6, 7, 8, 9])"
      ]
     },
     "execution_count": 206,
     "metadata": {},
     "output_type": "execute_result"
    }
   ],
   "source": [
    "a[(a<=2) | (a>1)]"
   ]
  },
  {
   "cell_type": "code",
   "execution_count": 207,
   "metadata": {},
   "outputs": [
    {
     "data": {
      "text/plain": [
       "array([2])"
      ]
     },
     "execution_count": 207,
     "metadata": {},
     "output_type": "execute_result"
    }
   ],
   "source": [
    "a[(a<=2) & (a>1)]"
   ]
  },
  {
   "cell_type": "code",
   "execution_count": 208,
   "metadata": {},
   "outputs": [
    {
     "data": {
      "text/plain": [
       "array([[97, 81, 99],\n",
       "       [67, 19, 26],\n",
       "       [39, 59, 59]])"
      ]
     },
     "execution_count": 208,
     "metadata": {},
     "output_type": "execute_result"
    }
   ],
   "source": [
    "b = np.random.randint(100,size=(3,3)) #numpy inherits random ps in numpy we can use random just as wee use \n",
    "b"
   ]
  },
  {
   "cell_type": "code",
   "execution_count": 209,
   "metadata": {},
   "outputs": [
    {
     "data": {
      "text/plain": [
       "array([97, 81, 99, 67])"
      ]
     },
     "execution_count": 209,
     "metadata": {},
     "output_type": "execute_result"
    }
   ],
   "source": [
    "b[b>b.mean()]"
   ]
  },
  {
   "cell_type": "markdown",
   "metadata": {},
   "source": [
    "## Linear Algebra"
   ]
  },
  {
   "cell_type": "code",
   "execution_count": 214,
   "metadata": {},
   "outputs": [],
   "source": [
    "a = np.array([\n",
    "    [1,2,3],\n",
    "    [4,5,6],\n",
    "    [7,8,9]\n",
    "])\n",
    "b = np.random.randint(10,size=(3,2))"
   ]
  },
  {
   "cell_type": "code",
   "execution_count": 215,
   "metadata": {},
   "outputs": [
    {
     "data": {
      "text/plain": [
       "(array([[1, 2, 3],\n",
       "        [4, 5, 6],\n",
       "        [7, 8, 9]]),\n",
       " array([[9, 0],\n",
       "        [6, 4],\n",
       "        [6, 1]]))"
      ]
     },
     "execution_count": 215,
     "metadata": {},
     "output_type": "execute_result"
    }
   ],
   "source": [
    "a,b"
   ]
  },
  {
   "cell_type": "code",
   "execution_count": 216,
   "metadata": {},
   "outputs": [
    {
     "data": {
      "text/plain": [
       "array([[ 39,  11],\n",
       "       [102,  26],\n",
       "       [165,  41]])"
      ]
     },
     "execution_count": 216,
     "metadata": {},
     "output_type": "execute_result"
    }
   ],
   "source": [
    "a.dot(b) # for multiplication of two matrices"
   ]
  },
  {
   "cell_type": "code",
   "execution_count": 218,
   "metadata": {},
   "outputs": [
    {
     "data": {
      "text/plain": [
       "array([[ 39,  11],\n",
       "       [102,  26],\n",
       "       [165,  41]])"
      ]
     },
     "execution_count": 218,
     "metadata": {},
     "output_type": "execute_result"
    }
   ],
   "source": [
    "a@b #shortcut for matrix multiplication"
   ]
  },
  {
   "cell_type": "code",
   "execution_count": 232,
   "metadata": {},
   "outputs": [],
   "source": [
    "b = np.append(b,np.array([1,5,9]))"
   ]
  },
  {
   "cell_type": "code",
   "execution_count": 238,
   "metadata": {},
   "outputs": [
    {
     "data": {
      "text/plain": [
       "array([[9, 0, 6],\n",
       "       [4, 6, 1],\n",
       "       [1, 5, 9]])"
      ]
     },
     "execution_count": 238,
     "metadata": {},
     "output_type": "execute_result"
    }
   ],
   "source": [
    "b = b[:9].reshape((3,3))\n",
    "b"
   ]
  },
  {
   "cell_type": "code",
   "execution_count": 239,
   "metadata": {},
   "outputs": [
    {
     "data": {
      "text/plain": [
       "array([[10,  2,  9],\n",
       "       [ 8, 11,  7],\n",
       "       [ 8, 13, 18]])"
      ]
     },
     "execution_count": 239,
     "metadata": {},
     "output_type": "execute_result"
    }
   ],
   "source": [
    "a+b"
   ]
  },
  {
   "cell_type": "code",
   "execution_count": 241,
   "metadata": {},
   "outputs": [
    {
     "data": {
      "text/plain": [
       "array([[9, 4, 1],\n",
       "       [0, 6, 5],\n",
       "       [6, 1, 9]])"
      ]
     },
     "execution_count": 241,
     "metadata": {},
     "output_type": "execute_result"
    }
   ],
   "source": [
    "b.T # transpose shortcut"
   ]
  },
  {
   "cell_type": "code",
   "execution_count": null,
   "metadata": {},
   "outputs": [],
   "source": []
  }
 ],
 "metadata": {
  "colab": {
   "collapsed_sections": [],
   "name": "Untitled3.ipynb",
   "provenance": []
  },
  "kernelspec": {
   "display_name": "Python 3 (ipykernel)",
   "language": "python",
   "name": "python3"
  },
  "language_info": {
   "codemirror_mode": {
    "name": "ipython",
    "version": 3
   },
   "file_extension": ".py",
   "mimetype": "text/x-python",
   "name": "python",
   "nbconvert_exporter": "python",
   "pygments_lexer": "ipython3",
   "version": "3.8.10"
  }
 },
 "nbformat": 4,
 "nbformat_minor": 1
}
