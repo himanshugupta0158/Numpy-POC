{
 "cells": [
  {
   "cell_type": "code",
   "execution_count": 1,
   "id": "b0886e2c",
   "metadata": {},
   "outputs": [],
   "source": [
    "import numpy as np"
   ]
  },
  {
   "cell_type": "markdown",
   "id": "3ce54d68",
   "metadata": {},
   "source": [
    "> Element-wise addition of 2 numpy arrays"
   ]
  },
  {
   "cell_type": "code",
   "execution_count": 2,
   "id": "9252abac",
   "metadata": {},
   "outputs": [
    {
     "data": {
      "text/plain": [
       "array([[11, 14, 17],\n",
       "       [13, 17, 21]])"
      ]
     },
     "execution_count": 2,
     "metadata": {},
     "output_type": "execute_result"
    }
   ],
   "source": [
    "a = np.array([\n",
    "    [1,2,3],\n",
    "    [4,5,6]])\n",
    "b = np.array([\n",
    "    [10,12,14],\n",
    "    [9,12,15]])\n",
    "c = a+b\n",
    "c"
   ]
  },
  {
   "cell_type": "markdown",
   "id": "b86acf00",
   "metadata": {},
   "source": [
    "> Multiplying a matrix (numpy array) by a scalar"
   ]
  },
  {
   "cell_type": "code",
   "execution_count": 3,
   "id": "2adea53a",
   "metadata": {},
   "outputs": [
    {
     "data": {
      "text/plain": [
       "array([[1, 2, 3],\n",
       "       [4, 5, 6]])"
      ]
     },
     "execution_count": 3,
     "metadata": {},
     "output_type": "execute_result"
    }
   ],
   "source": [
    "a"
   ]
  },
  {
   "cell_type": "code",
   "execution_count": 4,
   "id": "1e494317",
   "metadata": {},
   "outputs": [
    {
     "data": {
      "text/plain": [
       "array([[ 2,  4,  6],\n",
       "       [ 8, 10, 12]])"
      ]
     },
     "execution_count": 4,
     "metadata": {},
     "output_type": "execute_result"
    }
   ],
   "source": [
    "a*2"
   ]
  },
  {
   "cell_type": "markdown",
   "id": "7e7b3e02",
   "metadata": {},
   "source": [
    "> Identity Matrix"
   ]
  },
  {
   "cell_type": "code",
   "execution_count": 6,
   "id": "7651d258",
   "metadata": {},
   "outputs": [
    {
     "data": {
      "text/plain": [
       "array([[1., 0., 0.],\n",
       "       [0., 1., 0.],\n",
       "       [0., 0., 1.]])"
      ]
     },
     "execution_count": 6,
     "metadata": {},
     "output_type": "execute_result"
    }
   ],
   "source": [
    "i = np.eye(3) #it creates identity matrix which is also a square matrix.\n",
    "i"
   ]
  },
  {
   "cell_type": "markdown",
   "id": "d51fb0af",
   "metadata": {},
   "source": [
    "> Array re-dimensioning"
   ]
  },
  {
   "cell_type": "code",
   "execution_count": 9,
   "id": "e3e8f3f1",
   "metadata": {},
   "outputs": [
    {
     "data": {
      "text/plain": [
       "array([[[ 0,  1,  2],\n",
       "        [ 3,  4,  5],\n",
       "        [ 6,  7,  8]],\n",
       "\n",
       "       [[ 9, 10, 11],\n",
       "        [12, 13, 14],\n",
       "        [15, 16, 17]],\n",
       "\n",
       "       [[18, 19, 20],\n",
       "        [21, 22, 23],\n",
       "        [24, 25, 26]]])"
      ]
     },
     "execution_count": 9,
     "metadata": {},
     "output_type": "execute_result"
    }
   ],
   "source": [
    "a = np.array([i for i in range(27)]) #3X3X3 = 27\n",
    "a = a.reshape((3,3,3))\n",
    "a"
   ]
  },
  {
   "cell_type": "markdown",
   "id": "5d1ae971",
   "metadata": {},
   "source": [
    "> Array datatype conversion"
   ]
  },
  {
   "cell_type": "code",
   "execution_count": 23,
   "id": "dfdc802f",
   "metadata": {},
   "outputs": [
    {
     "data": {
      "text/plain": [
       "array([[3, 2, 2],\n",
       "       [2, 2, 3]])"
      ]
     },
     "execution_count": 23,
     "metadata": {},
     "output_type": "execute_result"
    }
   ],
   "source": [
    "a = np.random.randint(2,5,size=(2,3))\n",
    "a"
   ]
  },
  {
   "cell_type": "code",
   "execution_count": 24,
   "id": "6640cb27",
   "metadata": {},
   "outputs": [
    {
     "data": {
      "text/plain": [
       "array([[3., 2., 2.],\n",
       "       [2., 2., 3.]])"
      ]
     },
     "execution_count": 24,
     "metadata": {},
     "output_type": "execute_result"
    }
   ],
   "source": [
    "a = a.astype('float')\n",
    "a"
   ]
  },
  {
   "cell_type": "markdown",
   "id": "e1577d72",
   "metadata": {},
   "source": [
    "> Obtaining Boolean Array from Binary Array"
   ]
  },
  {
   "cell_type": "code",
   "execution_count": 26,
   "id": "c1642fbe",
   "metadata": {},
   "outputs": [
    {
     "data": {
      "text/plain": [
       "array([[1, 0, 0, 1, 0],\n",
       "       [1, 0, 1, 0, 0]])"
      ]
     },
     "execution_count": 26,
     "metadata": {},
     "output_type": "execute_result"
    }
   ],
   "source": [
    "a = np.array([[1,0,0,1,0],[1,0,1,0,0]])\n",
    "a"
   ]
  },
  {
   "cell_type": "code",
   "execution_count": 27,
   "id": "c3a44148",
   "metadata": {},
   "outputs": [
    {
     "data": {
      "text/plain": [
       "array([[ True, False, False,  True, False],\n",
       "       [ True, False,  True, False, False]])"
      ]
     },
     "execution_count": 27,
     "metadata": {},
     "output_type": "execute_result"
    }
   ],
   "source": [
    "a = a.astype('bool')\n",
    "a"
   ]
  },
  {
   "cell_type": "markdown",
   "id": "085a91d5",
   "metadata": {},
   "source": [
    "> Horizontal Stacking of Numpy Arrays"
   ]
  },
  {
   "cell_type": "code",
   "execution_count": 28,
   "id": "deddbf9e",
   "metadata": {},
   "outputs": [
    {
     "data": {
      "text/plain": [
       "(array([[1, 2, 3],\n",
       "        [4, 5, 6]]),\n",
       " array([[ 7,  8,  9],\n",
       "        [10, 11, 12]]))"
      ]
     },
     "execution_count": 28,
     "metadata": {},
     "output_type": "execute_result"
    }
   ],
   "source": [
    "a = np.array([[1,2,3],\n",
    "               [4,5,6]])\n",
    "\n",
    "b = np.array([[7,8,9],\n",
    "               [10,11,12]])\n",
    "a,b"
   ]
  },
  {
   "cell_type": "code",
   "execution_count": 29,
   "id": "dfd93048",
   "metadata": {},
   "outputs": [
    {
     "data": {
      "text/plain": [
       "array([[ 1,  2,  3,  7,  8,  9],\n",
       "       [ 4,  5,  6, 10, 11, 12]])"
      ]
     },
     "execution_count": 29,
     "metadata": {},
     "output_type": "execute_result"
    }
   ],
   "source": [
    "c = np.hstack((a,b))\n",
    "c"
   ]
  },
  {
   "cell_type": "markdown",
   "id": "4f638b90",
   "metadata": {},
   "source": [
    "> Vertically Stacking of Numpy Arrays"
   ]
  },
  {
   "cell_type": "code",
   "execution_count": 30,
   "id": "798ff0ac",
   "metadata": {},
   "outputs": [
    {
     "data": {
      "text/plain": [
       "array([[ 1,  2,  3],\n",
       "       [ 4,  5,  6],\n",
       "       [ 7,  8,  9],\n",
       "       [10, 11, 12]])"
      ]
     },
     "execution_count": 30,
     "metadata": {},
     "output_type": "execute_result"
    }
   ],
   "source": [
    "c = np.vstack((a,b))\n",
    "c"
   ]
  },
  {
   "cell_type": "markdown",
   "id": "8c80049e",
   "metadata": {},
   "source": [
    "> Custom Sequence Generation"
   ]
  },
  {
   "cell_type": "code",
   "execution_count": 32,
   "id": "f1e21b80",
   "metadata": {},
   "outputs": [
    {
     "data": {
      "text/plain": [
       "array([ 2,  6, 10, 14, 18, 22, 26, 30, 34, 38, 42, 46, 50, 54, 58, 62, 66,\n",
       "       70, 74, 78, 82, 86, 90, 94, 98])"
      ]
     },
     "execution_count": 32,
     "metadata": {},
     "output_type": "execute_result"
    }
   ],
   "source": [
    "list_of_numbers = [x for x in range(2,100,4)]\n",
    "\n",
    "o = np.array(list_of_numbers)\n",
    "o"
   ]
  },
  {
   "cell_type": "code",
   "execution_count": 34,
   "id": "a6d3db5e",
   "metadata": {},
   "outputs": [
    {
     "data": {
      "text/plain": [
       "array([ 2,  6, 10, 14, 18, 22, 26, 30, 34, 38, 42, 46, 50, 54, 58, 62, 66,\n",
       "       70, 74, 78, 82, 86, 90, 94, 98])"
      ]
     },
     "execution_count": 34,
     "metadata": {},
     "output_type": "execute_result"
    }
   ],
   "source": [
    "a = np.arange(2,100,4)\n",
    "a"
   ]
  },
  {
   "cell_type": "markdown",
   "id": "b767e9aa",
   "metadata": {},
   "source": [
    "> Getting the positions (indexes) where elements of 2 numpy arrays match"
   ]
  },
  {
   "cell_type": "code",
   "execution_count": 40,
   "id": "11c237f5",
   "metadata": {},
   "outputs": [
    {
     "data": {
      "text/plain": [
       "(array([1, 2, 3, 4, 5]), array([1, 3, 2, 4, 5]))"
      ]
     },
     "execution_count": 40,
     "metadata": {},
     "output_type": "execute_result"
    }
   ],
   "source": [
    "a = np.array([1,2,3,4,5])\n",
    "b = np.array([1,3,2,4,5])\n",
    "a,b"
   ]
  },
  {
   "cell_type": "code",
   "execution_count": 42,
   "id": "6968c43c",
   "metadata": {},
   "outputs": [
    {
     "name": "stdout",
     "output_type": "stream",
     "text": [
      "(array([0, 3, 4], dtype=int64),)\n"
     ]
    }
   ],
   "source": [
    "print(np.where(a==b)) #this check exact position if equal then return index value condition(i==j and a[i] == b[j])"
   ]
  },
  {
   "cell_type": "markdown",
   "id": "266f8b76",
   "metadata": {},
   "source": [
    "> Generation of given count of equally spaced numbers within a specified range"
   ]
  },
  {
   "cell_type": "code",
   "execution_count": 43,
   "id": "f70adfda",
   "metadata": {},
   "outputs": [
    {
     "data": {
      "text/plain": [
       "array([ 2.,  8., 14., 20.])"
      ]
     },
     "execution_count": 43,
     "metadata": {},
     "output_type": "execute_result"
    }
   ],
   "source": [
    "n = np.linspace(2,20,4)\n",
    "n"
   ]
  },
  {
   "cell_type": "markdown",
   "id": "dacfbf57",
   "metadata": {},
   "source": [
    "> Matrix Generation with one particular value"
   ]
  },
  {
   "cell_type": "code",
   "execution_count": 44,
   "id": "d5460cd9",
   "metadata": {},
   "outputs": [
    {
     "data": {
      "text/plain": [
       "array([[4, 4, 4, 4],\n",
       "       [4, 4, 4, 4]])"
      ]
     },
     "execution_count": 44,
     "metadata": {},
     "output_type": "execute_result"
    }
   ],
   "source": [
    "#shortcut way\n",
    "a = np.full((2,4),4)\n",
    "a"
   ]
  },
  {
   "cell_type": "code",
   "execution_count": 46,
   "id": "2c5aeae7",
   "metadata": {},
   "outputs": [
    {
     "data": {
      "text/plain": [
       "array([[4., 4., 4., 4.],\n",
       "       [4., 4., 4., 4.]])"
      ]
     },
     "execution_count": 46,
     "metadata": {},
     "output_type": "execute_result"
    }
   ],
   "source": [
    "#long term way\n",
    "b = np.ones((2,4))\n",
    "b*=4\n",
    "b"
   ]
  },
  {
   "cell_type": "code",
   "execution_count": 51,
   "id": "e52cc854",
   "metadata": {},
   "outputs": [
    {
     "data": {
      "text/plain": [
       "array([[4, 4, 4, 4],\n",
       "       [4, 4, 4, 4]])"
      ]
     },
     "execution_count": 51,
     "metadata": {},
     "output_type": "execute_result"
    }
   ],
   "source": [
    "b = b.astype('int')\n",
    "b"
   ]
  },
  {
   "cell_type": "markdown",
   "id": "8f011435",
   "metadata": {},
   "source": [
    "> Array Generation by repeatition of a small array across each dimension"
   ]
  },
  {
   "cell_type": "code",
   "execution_count": 52,
   "id": "29c7648a",
   "metadata": {},
   "outputs": [
    {
     "data": {
      "text/plain": [
       "(array([[1, 2, 3],\n",
       "        [4, 5, 6]]),\n",
       " array([[1, 2, 3, 1, 2, 3, 1, 2, 3, 1, 2, 3, 1, 2, 3],\n",
       "        [4, 5, 6, 4, 5, 6, 4, 5, 6, 4, 5, 6, 4, 5, 6]]))"
      ]
     },
     "execution_count": 52,
     "metadata": {},
     "output_type": "execute_result"
    }
   ],
   "source": [
    "a = np.array([[1,2,3],[4,5,6]])\n",
    "c = np.tile(a,5) #repeat each element 5 times.\n",
    "a,c"
   ]
  },
  {
   "cell_type": "markdown",
   "id": "77784d2d",
   "metadata": {},
   "source": [
    "> Array Generation of random integers within a specified range"
   ]
  },
  {
   "cell_type": "code",
   "execution_count": 53,
   "id": "8ac7f42c",
   "metadata": {},
   "outputs": [
    {
     "data": {
      "text/plain": [
       "array([[4, 9, 0, 2, 4],\n",
       "       [5, 7, 9, 8, 3],\n",
       "       [8, 1, 1, 4, 4],\n",
       "       [1, 1, 9, 3, 7],\n",
       "       [6, 2, 7, 0, 3]])"
      ]
     },
     "execution_count": 53,
     "metadata": {},
     "output_type": "execute_result"
    }
   ],
   "source": [
    "np.random.seed(150)\n",
    "a = np.random.randint(0,10,size=(5,5))\n",
    "a"
   ]
  },
  {
   "cell_type": "markdown",
   "id": "8a8bbd9a",
   "metadata": {},
   "source": [
    "> Array Generation of random numbers following normal distribution"
   ]
  },
  {
   "cell_type": "code",
   "execution_count": 56,
   "id": "31c44eba",
   "metadata": {},
   "outputs": [
    {
     "data": {
      "text/plain": [
       "(array([[ 4.13195787,  2.81050332,  7.30581725],\n",
       "        [ 3.98488563, -2.67642016,  3.78675053],\n",
       "        [-3.67678853,  0.71903314,  5.76561812]]),\n",
       " array([[-1.00449335, -0.73715392, -2.03846   ],\n",
       "        [ 0.26039385,  0.27285493, -0.66437923],\n",
       "        [ 0.04688872, -1.37920986, -0.04554147]]))"
      ]
     },
     "execution_count": 56,
     "metadata": {},
     "output_type": "execute_result"
    }
   ],
   "source": [
    "a = np.random.normal(1,5,size=(3,3))\n",
    "b = np.random.normal(size=(3,3))\n",
    "a,b"
   ]
  },
  {
   "cell_type": "markdown",
   "id": "f2078fbb",
   "metadata": {},
   "source": [
    "> Matrix Multiplication"
   ]
  },
  {
   "cell_type": "code",
   "execution_count": 59,
   "id": "23551014",
   "metadata": {},
   "outputs": [
    {
     "data": {
      "text/plain": [
       "(array([[1, 2, 3],\n",
       "        [4, 5, 6],\n",
       "        [7, 8, 9]]),\n",
       " array([[ 2,  3,  4],\n",
       "        [ 5,  6,  7],\n",
       "        [ 8,  9, 10]]),\n",
       " array([[ 36,  42,  48],\n",
       "        [ 81,  96, 111],\n",
       "        [126, 150, 174]]))"
      ]
     },
     "execution_count": 59,
     "metadata": {},
     "output_type": "execute_result"
    }
   ],
   "source": [
    "a = np.array([[1,2,3],\n",
    "              [4,5,6],\n",
    "              [7,8,9]])\n",
    "\n",
    "b = np.array([[2,3,4],\n",
    "              [5,6,7],\n",
    "              [8,9,10]])\n",
    "a,b,a@b #shortcut for matrix multiplication"
   ]
  },
  {
   "cell_type": "code",
   "execution_count": 60,
   "id": "c38c0fe0",
   "metadata": {},
   "outputs": [
    {
     "data": {
      "text/plain": [
       "array([[ 36,  42,  48],\n",
       "       [ 81,  96, 111],\n",
       "       [126, 150, 174]])"
      ]
     },
     "execution_count": 60,
     "metadata": {},
     "output_type": "execute_result"
    }
   ],
   "source": [
    "c = np.matmul(a,b)#second way for matrix multiplication\n",
    "c"
   ]
  },
  {
   "cell_type": "code",
   "execution_count": 62,
   "id": "c0299476",
   "metadata": {},
   "outputs": [
    {
     "data": {
      "text/plain": [
       "array([[ 36,  42,  48],\n",
       "       [ 81,  96, 111],\n",
       "       [126, 150, 174]])"
      ]
     },
     "execution_count": 62,
     "metadata": {},
     "output_type": "execute_result"
    }
   ],
   "source": [
    "d = np.dot(a,b) #third way for matrix multiplication\n",
    "d"
   ]
  },
  {
   "cell_type": "markdown",
   "id": "5ace201b",
   "metadata": {},
   "source": [
    "> Matrix Transpose"
   ]
  },
  {
   "cell_type": "code",
   "execution_count": 63,
   "id": "d5d99bb7",
   "metadata": {},
   "outputs": [
    {
     "data": {
      "text/plain": [
       "array([[1, 2, 3],\n",
       "       [4, 5, 6],\n",
       "       [7, 8, 9]])"
      ]
     },
     "execution_count": 63,
     "metadata": {},
     "output_type": "execute_result"
    }
   ],
   "source": [
    "a = np.array([\n",
    "    [1,2,3],\n",
    "    [4,5,6],\n",
    "    [7,8,9]\n",
    "])\n",
    "a"
   ]
  },
  {
   "cell_type": "code",
   "execution_count": 64,
   "id": "2673d887",
   "metadata": {},
   "outputs": [
    {
     "data": {
      "text/plain": [
       "array([[1, 4, 7],\n",
       "       [2, 5, 8],\n",
       "       [3, 6, 9]])"
      ]
     },
     "execution_count": 64,
     "metadata": {},
     "output_type": "execute_result"
    }
   ],
   "source": [
    "a_transpose = a.T\n",
    "a_transpose"
   ]
  },
  {
   "cell_type": "code",
   "execution_count": 66,
   "id": "aff4c316",
   "metadata": {},
   "outputs": [
    {
     "data": {
      "text/plain": [
       "array([[1, 4, 7],\n",
       "       [2, 5, 8],\n",
       "       [3, 6, 9]])"
      ]
     },
     "execution_count": 66,
     "metadata": {},
     "output_type": "execute_result"
    }
   ],
   "source": [
    "#another way for transpose\n",
    "a_transpose2 = np.transpose(a)\n",
    "a_transpose2"
   ]
  },
  {
   "cell_type": "markdown",
   "id": "77a531be",
   "metadata": {},
   "source": [
    "> Sine , Cosine ,Tangent of an Angle (in radians)"
   ]
  },
  {
   "cell_type": "code",
   "execution_count": 67,
   "id": "6d199b87",
   "metadata": {},
   "outputs": [
    {
     "data": {
      "text/plain": [
       "array([3.14, 1.57, 6.28])"
      ]
     },
     "execution_count": 67,
     "metadata": {},
     "output_type": "execute_result"
    }
   ],
   "source": [
    "angles = np.array([3.14, 3.14/2, 6.28])\n",
    "angles"
   ]
  },
  {
   "cell_type": "code",
   "execution_count": 68,
   "id": "2639d153",
   "metadata": {},
   "outputs": [
    {
     "data": {
      "text/plain": [
       "array([ 0.00159265,  0.99999968, -0.0031853 ])"
      ]
     },
     "execution_count": 68,
     "metadata": {},
     "output_type": "execute_result"
    }
   ],
   "source": [
    "#Sin(0)\n",
    "sine_of_angles = np.sin(angles)\n",
    "sine_of_angles"
   ]
  },
  {
   "cell_type": "code",
   "execution_count": 69,
   "id": "a6b9510a",
   "metadata": {},
   "outputs": [
    {
     "data": {
      "text/plain": [
       "array([-9.99998732e-01,  7.96326711e-04,  9.99994927e-01])"
      ]
     },
     "execution_count": 69,
     "metadata": {},
     "output_type": "execute_result"
    }
   ],
   "source": [
    "#Cos(0)\n",
    "cosine_of_angles = np.cos(angles)\n",
    "cosine_of_angles"
   ]
  },
  {
   "cell_type": "code",
   "execution_count": 70,
   "id": "e88a9a8f",
   "metadata": {},
   "outputs": [
    {
     "data": {
      "text/plain": [
       "array([-1.59265494e-03,  1.25576559e+03, -3.18531795e-03])"
      ]
     },
     "execution_count": 70,
     "metadata": {},
     "output_type": "execute_result"
    }
   ],
   "source": [
    "#tan(0)\n",
    "tangent_of_angles = np.tan(angles)\n",
    "tangent_of_angles"
   ]
  },
  {
   "cell_type": "markdown",
   "id": "787477ac",
   "metadata": {},
   "source": [
    "> Generating the array element indexes such that the array elements appear in ascending order"
   ]
  },
  {
   "cell_type": "code",
   "execution_count": 77,
   "id": "a05dc3ce",
   "metadata": {},
   "outputs": [
    {
     "data": {
      "text/plain": [
       "(array([1, 3, 2, 7, 0, 6, 5, 4], dtype=int64),\n",
       " array([0, 2, 1, 3], dtype=int64),\n",
       " array([4, 0, 2, 1, 3, 5, 6], dtype=int64))"
      ]
     },
     "execution_count": 77,
     "metadata": {},
     "output_type": "execute_result"
    }
   ],
   "source": [
    "#Note : It sort elements in ascending order but result appear as index list or array  \n",
    "arr1 = np.array([10,1,5,2,21,13,11,9])\n",
    "arr2 = np.array([1,5,2,21])\n",
    "arr3 = np.array([1,5,2,21,-12,61,87])\n",
    "index1 = np.argsort(arr1)\n",
    "index2 = np.argsort(arr2)\n",
    "index3 = np.argsort(arr3)\n",
    "index1 , index2 , index3"
   ]
  },
  {
   "cell_type": "code",
   "execution_count": 78,
   "id": "2cc4ee06",
   "metadata": {},
   "outputs": [
    {
     "data": {
      "text/plain": [
       "array([ 1,  2,  5,  9, 10, 11, 13, 21])"
      ]
     },
     "execution_count": 78,
     "metadata": {},
     "output_type": "execute_result"
    }
   ],
   "source": [
    "arr1[index1]"
   ]
  },
  {
   "cell_type": "code",
   "execution_count": 79,
   "id": "84da1d02",
   "metadata": {},
   "outputs": [
    {
     "data": {
      "text/plain": [
       "array([ 1,  2,  5, 21])"
      ]
     },
     "execution_count": 79,
     "metadata": {},
     "output_type": "execute_result"
    }
   ],
   "source": [
    "arr2[index2]"
   ]
  },
  {
   "cell_type": "code",
   "execution_count": 80,
   "id": "316a32da",
   "metadata": {},
   "outputs": [
    {
     "data": {
      "text/plain": [
       "array([-12,   1,   2,   5,  21,  61,  87])"
      ]
     },
     "execution_count": 80,
     "metadata": {},
     "output_type": "execute_result"
    }
   ],
   "source": [
    "arr3[index3]"
   ]
  },
  {
   "cell_type": "code",
   "execution_count": null,
   "id": "9f4e95c2",
   "metadata": {},
   "outputs": [],
   "source": []
  }
 ],
 "metadata": {
  "kernelspec": {
   "display_name": "Python 3 (ipykernel)",
   "language": "python",
   "name": "python3"
  },
  "language_info": {
   "codemirror_mode": {
    "name": "ipython",
    "version": 3
   },
   "file_extension": ".py",
   "mimetype": "text/x-python",
   "name": "python",
   "nbconvert_exporter": "python",
   "pygments_lexer": "ipython3",
   "version": "3.8.10"
  }
 },
 "nbformat": 4,
 "nbformat_minor": 5
}
